{
 "cells": [
  {
   "cell_type": "code",
   "execution_count": 2,
   "source": [
    "s = 'abcabcabc'\r\n",
    "s.index('b')"
   ],
   "outputs": [
    {
     "output_type": "execute_result",
     "data": {
      "text/plain": [
       "1"
      ]
     },
     "metadata": {},
     "execution_count": 2
    }
   ],
   "metadata": {}
  },
  {
   "cell_type": "code",
   "execution_count": 49,
   "source": [
    "s1 = 'skunk'\r\n",
    "s2 = 'kusn'\r\n",
    "s3 = ['_'] * 5"
   ],
   "outputs": [],
   "metadata": {}
  },
  {
   "cell_type": "code",
   "execution_count": 60,
   "source": [
    "s2 in s1"
   ],
   "outputs": [
    {
     "output_type": "execute_result",
     "data": {
      "text/plain": [
       "True"
      ]
     },
     "metadata": {},
     "execution_count": 60
    }
   ],
   "metadata": {}
  },
  {
   "cell_type": "code",
   "execution_count": 59,
   "source": [
    "for x in range(len(s2)):\r\n",
    "    for y in range(len(s1)):\r\n",
    "        if s2[x] == s1[y]:\r\n",
    "            s3[y] = s2[x]\r\n",
    "\r\n",
    "print(''.join(s3))"
   ],
   "outputs": [
    {
     "output_type": "stream",
     "name": "stdout",
     "text": [
      "_ku_k\n"
     ]
    }
   ],
   "metadata": {}
  }
 ],
 "metadata": {
  "kernelspec": {
   "name": "python3",
   "display_name": "Python 3.9.6 64-bit"
  },
  "language_info": {
   "codemirror_mode": {
    "name": "ipython",
    "version": 3
   },
   "file_extension": ".py",
   "mimetype": "text/x-python",
   "name": "python",
   "nbconvert_exporter": "python",
   "pygments_lexer": "ipython3",
   "version": "3.9.6"
  },
  "interpreter": {
   "hash": "85ff5574b6aed16a9b9e38a8c84c01619ce1bae3dc559e8d5de10948fe2d0c6b"
  }
 },
 "nbformat": 4,
 "nbformat_minor": 5
}