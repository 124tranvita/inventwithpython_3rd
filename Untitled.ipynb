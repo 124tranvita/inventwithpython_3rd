{
 "cells": [
  {
   "cell_type": "code",
   "execution_count": 3,
   "source": [
    "def is_valid_move(x, y):\r\n",
    "    #Return True if coordinates is in the board. Otherwise return False\r\n",
    "    return x >= 0 and x <= 59 and y >= 0 and y <= 14"
   ],
   "outputs": [],
   "metadata": {}
  },
  {
   "cell_type": "code",
   "execution_count": 4,
   "source": [
    "def enter_player_move():\r\n",
    "    #let the player type in their move. Return the a two-item list of int x and y coordinates\r\n",
    "    print('Where do you want to drop the next sonar device? (0-59) (0-14) (or type quit to exti)')\r\n",
    "    while True:\r\n",
    "        move = input()\r\n",
    "        if move.lower() == 'quit':\r\n",
    "            print('Thanks for playing!!!')\r\n",
    "            sys.exit()\r\n",
    "            \r\n",
    "        move = move.split()\r\n",
    "        if len(move) == 2 and move[0].isdigit() and move[1].isdigit() and is_valid_move(int(move[0]), int(move[1])):\r\n",
    "            return [int(move[0]), int(move[1])]\r\n",
    "        print('Enter a number from 0 to 59, a space, then a number from 0 to 14.')"
   ],
   "outputs": [],
   "metadata": {}
  },
  {
   "cell_type": "code",
   "execution_count": 6,
   "source": [
    "x, y = enter_player_move()\r\n",
    "print(x)\r\n",
    "print(y)"
   ],
   "outputs": [
    {
     "output_type": "stream",
     "name": "stdout",
     "text": [
      "Where do you want to drop the next sonar device? (0-59) (0-14) (or type quit to exti)\n",
      "54\n",
      "14\n"
     ]
    }
   ],
   "metadata": {}
  },
  {
   "cell_type": "code",
   "execution_count": null,
   "source": [],
   "outputs": [],
   "metadata": {}
  }
 ],
 "metadata": {
  "kernelspec": {
   "name": "python3",
   "display_name": "Python 3.9.6 64-bit"
  },
  "language_info": {
   "codemirror_mode": {
    "name": "ipython",
    "version": 3
   },
   "file_extension": ".py",
   "mimetype": "text/x-python",
   "name": "python",
   "nbconvert_exporter": "python",
   "pygments_lexer": "ipython3",
   "version": "3.9.6"
  },
  "interpreter": {
   "hash": "85ff5574b6aed16a9b9e38a8c84c01619ce1bae3dc559e8d5de10948fe2d0c6b"
  }
 },
 "nbformat": 4,
 "nbformat_minor": 5
}